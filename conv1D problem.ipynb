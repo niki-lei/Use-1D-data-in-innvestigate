{
 "cells": [
  {
   "cell_type": "markdown",
   "metadata": {},
   "source": [
    "# Analyzing with iNNvestigate"
   ]
  },
  {
   "cell_type": "code",
   "execution_count": 1,
   "metadata": {},
   "outputs": [],
   "source": [
    "import os\n",
    "\n",
    "try:\n",
    "    # %tensorflow_version only exists in Colab.\n",
    "    %tensorflow_version 2.x\n",
    "    IS_COLAB = True\n",
    "    if not os.path.exists(\"/content/innvestigate\"):\n",
    "        !git clone https://github.com/albermax/innvestigate.git\n",
    "        !pip install /content/innvestigate --no-deps\n",
    "    %cd /content/innvestigate/examples/notebooks\n",
    "except Exception:\n",
    "    IS_COLAB = False"
   ]
  },
  {
   "cell_type": "markdown",
   "metadata": {},
   "source": [
    "\n",
    "### Training a network\n",
    "\n",
    "To analyze a network, we need a network! As a base for **iNNvestigate** we chose the Keras deep learning library, because it is easy to use and allows to inspect build models.\n",
    "\n",
    "In this first piece of code we import all the necessary modules:"
   ]
  },
  {
   "cell_type": "code",
   "execution_count": 2,
   "metadata": {},
   "outputs": [],
   "source": [
    "import warnings\n",
    "\n",
    "warnings.simplefilter(\"ignore\")"
   ]
  },
  {
   "cell_type": "code",
   "execution_count": 3,
   "metadata": {},
   "outputs": [],
   "source": [
    "%matplotlib inline\n",
    "\n",
    "import imp\n",
    "import os\n",
    "\n",
    "import matplotlib.pyplot as plot\n",
    "import numpy as np\n",
    "import tensorflow as tf\n",
    "import tensorflow.keras as keras\n",
    "\n",
    "tf.compat.v1.disable_eager_execution()\n",
    "\n",
    "import innvestigate\n",
    "\n",
    "# Use utility libraries to focus on relevant iNNvestigate routines.\n",
    "import utils.mnist as mnistutils"
   ]
  },
  {
   "cell_type": "code",
   "execution_count": 4,
   "metadata": {},
   "outputs": [
    {
     "data": {
      "text/plain": [
       "'2.0.1'"
      ]
     },
     "execution_count": 4,
     "metadata": {},
     "output_type": "execute_result"
    }
   ],
   "source": [
    "innvestigate.__version__"
   ]
  },
  {
   "cell_type": "markdown",
   "metadata": {},
   "source": [
    "## Analyzer works perfect with Conv2D"
   ]
  },
  {
   "cell_type": "code",
   "execution_count": 5,
   "metadata": {},
   "outputs": [
    {
     "name": "stdout",
     "output_type": "stream",
     "text": [
      "WARNING:tensorflow:From c:\\Users\\qi79lei2\\AppData\\Local\\anaconda3\\envs\\tensorflow2.15\\Lib\\site-packages\\keras\\src\\layers\\normalization\\batch_normalization.py:883: _colocate_with (from tensorflow.python.framework.ops) is deprecated and will be removed in a future version.\n",
      "Instructions for updating:\n",
      "Colocations handled automatically by placer.\n"
     ]
    },
    {
     "data": {
      "image/png": "[encoded data removed]",
      "text/plain": [
       "<Figure size 640x480 with 2 Axes>"
      ]
     },
     "metadata": {},
     "output_type": "display_data"
    }
   ],
   "source": [
    "########################################\n",
    "###############  2D example ############\n",
    "########################################\n",
    "import numpy as np\n",
    "import matplotlib.pyplot as plt\n",
    "import tensorflow as tf\n",
    "from tensorflow.keras.models import Model\n",
    "from tensorflow.keras.layers import Input, Flatten, Dense, Conv2D, AveragePooling2D, BatchNormalization\n",
    "from tensorflow.keras.losses import CategoricalCrossentropy\n",
    "from tensorflow.keras.optimizers import Adam\n",
    "import innvestigate\n",
    "\n",
    "# === 1. Disable eager execution ===\n",
    "tf.compat.v1.disable_eager_execution()\n",
    "\n",
    "# === 2. Clear the default graph ===\n",
    "tf.compat.v1.reset_default_graph()\n",
    "\n",
    "# === 3. Define your model ===\n",
    "def build_flat_cnn_model(input_shape=(28, 28, 1), output_classes=10, hidden_units=64, activation='selu'):\n",
    "    inputs = Input(shape=input_shape, name=\"input_layer\")\n",
    "    x = Conv2D(4, 1, kernel_initializer='he_uniform', activation='selu', padding='same', name='block1_conv1')(inputs)\n",
    "    x = BatchNormalization()(x)\n",
    "    x = AveragePooling2D(2, strides=2, name='block1_pool')(x)\n",
    "    x = Flatten()(x)\n",
    "    x = Dense(hidden_units, activation=activation)(x)\n",
    "    outputs = Dense(output_classes, activation='softmax')(x)\n",
    "    \n",
    "    model = Model(inputs=inputs, outputs=outputs)\n",
    "    model.compile(optimizer=Adam(), loss=CategoricalCrossentropy(), metrics=['accuracy'])\n",
    "    \n",
    "    return model\n",
    "\n",
    "# === 4. Create and initialize model ===\n",
    "model = build_flat_cnn_model()\n",
    "model_wo_sm = innvestigate.model_wo_softmax(model)\n",
    "\n",
    "# === 5. Start a TF1-style session and initialize variables ===\n",
    "sess = tf.compat.v1.Session()\n",
    "sess.run(tf.compat.v1.global_variables_initializer())\n",
    "\n",
    "# === 6. Set this session as default for Keras backend (manually) ===\n",
    "tf.compat.v1.keras.backend.set_session(sess)\n",
    "\n",
    "# === 7. Analyze ===\n",
    "image = np.random.rand(1, 28, 28, 1).astype(np.float32)\n",
    "analyzer = innvestigate.create_analyzer(\"input_t_gradient\", model_wo_sm)\n",
    "analysis = analyzer.analyze(image)\n",
    "\n",
    "# === 8. Plot ===\n",
    "plt.imshow(analysis.squeeze(), cmap=\"seismic\")\n",
    "plt.title(\"Input_gradient\")\n",
    "plt.colorbar()\n",
    "plt.show()\n"
   ]
  },
  {
   "cell_type": "markdown",
   "metadata": {},
   "source": [
    "## Here is the problem when use Conv1D"
   ]
  },
  {
   "cell_type": "code",
   "execution_count": null,
   "metadata": {},
   "outputs": [],
   "source": [
    "########################################\n",
    "###############  1D example ############\n",
    "########################################\n",
    "\n",
    "import numpy as np\n",
    "import matplotlib.pyplot as plt\n",
    "import tensorflow as tf\n",
    "from tensorflow.keras.models import Model\n",
    "from tensorflow.keras.layers import Input, Flatten, Dense, Conv1D, AveragePooling1D, BatchNormalization\n",
    "from tensorflow.keras.losses import CategoricalCrossentropy\n",
    "from tensorflow.keras.optimizers import Adam\n",
    "import innvestigate\n",
    "\n",
    "# === 1. Disable eager execution ===\n",
    "tf.compat.v1.disable_eager_execution()\n",
    "\n",
    "# === 2. Clear the default graph ===\n",
    "tf.compat.v1.reset_default_graph()\n",
    "\n",
    "# === 3. Define your model ===\n",
    "def build_flat_cnn_1d_model(input_shape=(28, 1), output_classes=256, hidden_units=64, activation='selu'):\n",
    "    inputs = Input(shape=input_shape, name=\"input_layer\")\n",
    "    x = Conv1D(4, 1, kernel_initializer='he_uniform', activation='selu', padding='same')(inputs) # changed here to 1D\n",
    "    x = BatchNormalization()(x)\n",
    "    x = AveragePooling1D(2, strides=2)(x) # changed here to 1D\n",
    "    x = Flatten()(x)\n",
    "    x = Dense(hidden_units, activation=activation)(x)\n",
    "    outputs = Dense(output_classes, activation='softmax')(x)\n",
    "    model = Model(inputs=inputs, outputs=outputs)\n",
    "    model.compile(optimizer=Adam(), loss=CategoricalCrossentropy(), metrics=['accuracy'])\n",
    "    return model\n",
    "\n",
    "# === 4. Create and initialize model ===\n",
    "model = build_flat_cnn_1d_model()\n",
    "model_wo_sm = innvestigate.model_wo_softmax(model)\n",
    "\n",
    "# === 5. Start a TF1-style session and initialize variables ===\n",
    "sess = tf.compat.v1.Session()\n",
    "sess.run(tf.compat.v1.global_variables_initializer())\n",
    "\n",
    "# === 6. Set this session as default for Keras backend (manually) ===\n",
    "tf.compat.v1.keras.backend.set_session(sess)\n",
    "\n",
    "# === 7. Analyze ===\n",
    "image = np.random.rand(1, 28, 1).astype(np.float32)\n",
    "analyzer = innvestigate.create_analyzer(\"input_t_gradient\", model_wo_sm)\n",
    "analysis = analyzer.analyze(image)\n",
    "\n",
    "# === 8. Plot ===\n",
    "plt.imshow(analysis.squeeze()[np.newaxis, :], cmap=\"seismic\", aspect=\"auto\")\n",
    "plt.title(\"Input_gradient\")\n",
    "plt.colorbar()\n",
    "plt.show()\n"
   ]
  },
  {
   "cell_type": "markdown",
   "metadata": {},
   "source": [
    "## Use Conv1D, only LRP.z works"
   ]
  },
  {
   "cell_type": "code",
   "execution_count": null,
   "metadata": {},
   "outputs": [
    {
     "data": {
      "image/png": "[encoded data removed]",
      "text/plain": [
       "<Figure size 640x480 with 2 Axes>"
      ]
     },
     "metadata": {},
     "output_type": "display_data"
    }
   ],
   "source": [
    "import numpy as np\n",
    "import matplotlib.pyplot as plt\n",
    "import tensorflow as tf\n",
    "from tensorflow.keras.models import Model\n",
    "from tensorflow.keras.layers import Input, Flatten, Dense, Conv1D, AveragePooling1D, BatchNormalization\n",
    "from tensorflow.keras.losses import CategoricalCrossentropy\n",
    "from tensorflow.keras.optimizers import Adam\n",
    "import innvestigate\n",
    "\n",
    "# === 1. Disable eager execution ===\n",
    "tf.compat.v1.disable_eager_execution()\n",
    "\n",
    "# === 2. Clear the default graph ===\n",
    "tf.compat.v1.reset_default_graph()\n",
    "\n",
    "# === 3. Define your model ===\n",
    "def build_flat_cnn_1d_model(input_shape=(28, 1), output_classes=256, hidden_units=64, activation='selu'):\n",
    "    inputs = Input(shape=input_shape, name=\"input_layer\")\n",
    "    x = Conv1D(4, 1, kernel_initializer='he_uniform', activation='selu', padding='same')(inputs)\n",
    "    x = BatchNormalization()(x)\n",
    "    x = AveragePooling1D(2, strides=2)(x)\n",
    "    x = Flatten()(x)\n",
    "    x = Dense(hidden_units, activation=activation)(x)\n",
    "    outputs = Dense(output_classes, activation='softmax')(x)\n",
    "    model = Model(inputs=inputs, outputs=outputs)\n",
    "    model.compile(optimizer=Adam(), loss=CategoricalCrossentropy(), metrics=['accuracy'])\n",
    "    return model\n",
    "\n",
    "# === 4. Create and initialize model ===\n",
    "model = build_flat_cnn_1d_model()\n",
    "model_wo_sm = innvestigate.model_wo_softmax(model)\n",
    "\n",
    "# === 5. Start a TF1-style session and initialize variables ===\n",
    "sess = tf.compat.v1.Session()\n",
    "sess.run(tf.compat.v1.global_variables_initializer())\n",
    "\n",
    "# === 6. Set this session as default for Keras backend (manually) ===\n",
    "tf.compat.v1.keras.backend.set_session(sess)\n",
    "\n",
    "# === 7. Analyze ===\n",
    "image = np.random.rand(1, 28, 1).astype(np.float32)\n",
    "analyzer = innvestigate.create_analyzer(\"lrp.z\", model_wo_sm)\n",
    "analysis = analyzer.analyze(image)\n",
    "\n",
    "# === 8. Plot ===\n",
    "plt.imshow(analysis.squeeze()[np.newaxis, :], cmap=\"seismic\", aspect=\"auto\")\n",
    "plt.title(\"LRP Heatmap\")\n",
    "plt.colorbar()\n",
    "plt.show()\n"
   ]
  },
  {
   "cell_type": "code",
   "execution_count": null,
   "metadata": {},
   "outputs": [],
   "source": []
  }
 ],
 "metadata": {
  "kernelspec": {
   "display_name": "tensorflow2.15",
   "language": "python",
   "name": "python3"
  },
  "language_info": {
   "codemirror_mode": {
    "name": "ipython",
    "version": 3
   },
   "file_extension": ".py",
   "mimetype": "text/x-python",
   "name": "python",
   "nbconvert_exporter": "python",
   "pygments_lexer": "ipython3",
   "version": "3.11.11"
  }
 },
 "nbformat": 4,
 "nbformat_minor": 4
}
